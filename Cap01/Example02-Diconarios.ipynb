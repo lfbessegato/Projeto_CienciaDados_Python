{
 "cells": [
  {
   "cell_type": "markdown",
   "id": "0989ba50",
   "metadata": {},
   "source": [
    "##### Capítulo 01 - Exemplo de Dicionários"
   ]
  },
  {
   "cell_type": "code",
   "execution_count": 2,
   "id": "cbed7056",
   "metadata": {},
   "outputs": [
    {
     "data": {
      "text/plain": [
       "{'apples': 5, 'oranges': 8}"
      ]
     },
     "execution_count": 2,
     "metadata": {},
     "output_type": "execute_result"
    }
   ],
   "source": [
    "example_dict = {'apples':5, 'oranges':8}\n",
    "example_dict"
   ]
  },
  {
   "cell_type": "code",
   "execution_count": 3,
   "id": "4a416866",
   "metadata": {},
   "outputs": [
    {
     "data": {
      "text/plain": [
       "{'apples': 5, 'oranges': 8, 'bananas': 13}"
      ]
     },
     "execution_count": 3,
     "metadata": {},
     "output_type": "execute_result"
    }
   ],
   "source": [
    "example_dict['bananas'] = 13\n",
    "example_dict"
   ]
  },
  {
   "cell_type": "code",
   "execution_count": null,
   "id": "6c8a8457",
   "metadata": {},
   "outputs": [],
   "source": []
  },
  {
   "cell_type": "code",
   "execution_count": null,
   "id": "4be669eb",
   "metadata": {
    "collapsed": true
   },
   "outputs": [],
   "source": []
  }
 ],
 "metadata": {
  "kernelspec": {
   "display_name": "Python 3 (ipykernel)",
   "language": "python",
   "name": "python3"
  },
  "language_info": {
   "codemirror_mode": {
    "name": "ipython",
    "version": 3
   },
   "file_extension": ".py",
   "mimetype": "text/x-python",
   "name": "python",
   "nbconvert_exporter": "python",
   "pygments_lexer": "ipython3",
   "version": "3.9.12"
  }
 },
 "nbformat": 4,
 "nbformat_minor": 5
}
