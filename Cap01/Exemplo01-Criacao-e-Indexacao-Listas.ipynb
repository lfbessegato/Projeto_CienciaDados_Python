{
 "cells": [
  {
   "cell_type": "markdown",
   "id": "a4c21ba9",
   "metadata": {},
   "source": [
    "##### Capítulo 01 \n",
    "Exemplo 01 - Indexador"
   ]
  },
  {
   "cell_type": "code",
   "execution_count": 1,
   "id": "b1e591a7",
   "metadata": {},
   "outputs": [
    {
     "data": {
      "text/plain": [
       "[1, 2, 3, 4, 5]"
      ]
     },
     "execution_count": 1,
     "metadata": {},
     "output_type": "execute_result"
    }
   ],
   "source": [
    "example_list = list(range(1,6))\n",
    "example_list"
   ]
  },
  {
   "cell_type": "code",
   "execution_count": 2,
   "id": "557dd27d",
   "metadata": {},
   "outputs": [
    {
     "data": {
      "text/plain": [
       "1"
      ]
     },
     "execution_count": 2,
     "metadata": {},
     "output_type": "execute_result"
    }
   ],
   "source": [
    "example_list[0]"
   ]
  },
  {
   "cell_type": "code",
   "execution_count": 3,
   "id": "e46a4f80",
   "metadata": {},
   "outputs": [
    {
     "data": {
      "text/plain": [
       "5"
      ]
     },
     "execution_count": 3,
     "metadata": {},
     "output_type": "execute_result"
    }
   ],
   "source": [
    "example_list[-1]"
   ]
  },
  {
   "cell_type": "code",
   "execution_count": 4,
   "id": "43fb27a8",
   "metadata": {},
   "outputs": [
    {
     "data": {
      "text/plain": [
       "4"
      ]
     },
     "execution_count": 4,
     "metadata": {},
     "output_type": "execute_result"
    }
   ],
   "source": [
    "example_list[-2]"
   ]
  },
  {
   "cell_type": "code",
   "execution_count": 5,
   "id": "7cbd8f4d",
   "metadata": {},
   "outputs": [
    {
     "data": {
      "text/plain": [
       "[1, 2, 3]"
      ]
     },
     "execution_count": 5,
     "metadata": {},
     "output_type": "execute_result"
    }
   ],
   "source": [
    "example_list[:3]"
   ]
  },
  {
   "cell_type": "code",
   "execution_count": 7,
   "id": "93617ac5",
   "metadata": {},
   "outputs": [],
   "source": [
    "example_list[0] = 'A string'"
   ]
  },
  {
   "cell_type": "code",
   "execution_count": 8,
   "id": "6ac2df16",
   "metadata": {},
   "outputs": [
    {
     "data": {
      "text/plain": [
       "['A string', 2, 3, 4, 5]"
      ]
     },
     "execution_count": 8,
     "metadata": {},
     "output_type": "execute_result"
    }
   ],
   "source": [
    "example_list"
   ]
  }
 ],
 "metadata": {
  "kernelspec": {
   "display_name": "Python 3 (ipykernel)",
   "language": "python",
   "name": "python3"
  },
  "language_info": {
   "codemirror_mode": {
    "name": "ipython",
    "version": 3
   },
   "file_extension": ".py",
   "mimetype": "text/x-python",
   "name": "python",
   "nbconvert_exporter": "python",
   "pygments_lexer": "ipython3",
   "version": "3.9.12"
  }
 },
 "nbformat": 4,
 "nbformat_minor": 5
}
