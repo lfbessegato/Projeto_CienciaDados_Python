{
 "cells": [
  {
   "cell_type": "markdown",
   "id": "d1f4a001",
   "metadata": {},
   "source": [
    "##### Exercícios"
   ]
  },
  {
   "cell_type": "markdown",
   "id": "8b3c2aae",
   "metadata": {},
   "source": [
    "###### Faça um loop for para exibir os valores 0 a 4"
   ]
  },
  {
   "cell_type": "code",
   "execution_count": 1,
   "id": "786d77e2",
   "metadata": {},
   "outputs": [
    {
     "name": "stdout",
     "output_type": "stream",
     "text": [
      "0\n",
      "1\n",
      "2\n",
      "3\n",
      "4\n"
     ]
    }
   ],
   "source": [
    "for counter in range(5):\n",
    "    print(counter)"
   ]
  },
  {
   "cell_type": "markdown",
   "id": "7725cf2b",
   "metadata": {},
   "source": [
    "###### Crie um dicionários de frutas (Apples[maçãs], oranges[laranjas] e bananas[bananas]])"
   ]
  },
  {
   "cell_type": "code",
   "execution_count": 3,
   "id": "2dd2a995",
   "metadata": {},
   "outputs": [
    {
     "data": {
      "text/plain": [
       "{'apples': 5, 'oranges': 8, 'banana': 13}"
      ]
     },
     "execution_count": 3,
     "metadata": {},
     "output_type": "execute_result"
    }
   ],
   "source": [
    "example_dict = {'apples':5, 'oranges':8, 'banana':13}"
   ]
  },
  {
   "cell_type": "markdown",
   "id": "d8b00bf2",
   "metadata": {},
   "source": [
    "###### Converta o dicionário em uma lista usando a função list()"
   ]
  },
  {
   "cell_type": "code",
   "execution_count": 4,
   "id": "ddec9a97",
   "metadata": {},
   "outputs": [
    {
     "data": {
      "text/plain": [
       "['apples', 'oranges', 'banana']"
      ]
     },
     "execution_count": 4,
     "metadata": {},
     "output_type": "execute_result"
    }
   ],
   "source": [
    "dict_to_list = list(example_dict)\n",
    "dict_to_list"
   ]
  },
  {
   "cell_type": "markdown",
   "id": "58ca143a",
   "metadata": {},
   "source": [
    "###### Exibir os values dos dicionários"
   ]
  },
  {
   "cell_type": "code",
   "execution_count": 7,
   "id": "5daa6de5",
   "metadata": {},
   "outputs": [
    {
     "data": {
      "text/plain": [
       "dict_values([5, 8, 13])"
      ]
     },
     "execution_count": 7,
     "metadata": {},
     "output_type": "execute_result"
    }
   ],
   "source": [
    "example_dict.values()"
   ]
  },
  {
   "cell_type": "markdown",
   "id": "9a7f9846",
   "metadata": {},
   "source": [
    "###### Use o operador + para combinar a lista de frutas existentes com uma nova lista, \n",
    "contendo apenas uma fruta (pears[peras])"
   ]
  },
  {
   "cell_type": "code",
   "execution_count": 9,
   "id": "cb64eda6",
   "metadata": {},
   "outputs": [
    {
     "data": {
      "text/plain": [
       "['apples', 'oranges', 'banana', 'pears']"
      ]
     },
     "execution_count": 9,
     "metadata": {},
     "output_type": "execute_result"
    }
   ],
   "source": [
    "dict_to_list = dict_to_list + ['pears']\n",
    "dict_to_list"
   ]
  },
  {
   "cell_type": "markdown",
   "id": "3b1a2791",
   "metadata": {},
   "source": [
    "###### Classifique a lista de frutas em ordem alfabética usando a função sorted()"
   ]
  },
  {
   "cell_type": "code",
   "execution_count": 11,
   "id": "d23cff04",
   "metadata": {},
   "outputs": [
    {
     "data": {
      "text/plain": [
       "['apples', 'banana', 'oranges', 'pears']"
      ]
     },
     "execution_count": 11,
     "metadata": {},
     "output_type": "execute_result"
    }
   ],
   "source": [
    "sorted(dict_to_list)"
   ]
  },
  {
   "cell_type": "code",
   "execution_count": null,
   "id": "52f98268",
   "metadata": {},
   "outputs": [],
   "source": []
  }
 ],
 "metadata": {
  "kernelspec": {
   "display_name": "Python 3 (ipykernel)",
   "language": "python",
   "name": "python3"
  },
  "language_info": {
   "codemirror_mode": {
    "name": "ipython",
    "version": 3
   },
   "file_extension": ".py",
   "mimetype": "text/x-python",
   "name": "python",
   "nbconvert_exporter": "python",
   "pygments_lexer": "ipython3",
   "version": "3.9.12"
  }
 },
 "nbformat": 4,
 "nbformat_minor": 5
}
